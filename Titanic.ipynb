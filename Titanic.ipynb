{
 "cells": [
  {
   "cell_type": "code",
   "execution_count": 341,
   "metadata": {
    "collapsed": false
   },
   "outputs": [
    {
     "name": "stdout",
     "output_type": "stream",
     "text": [
      "test.csv\n",
      "train.csv\n",
      "\n"
     ]
    }
   ],
   "source": [
    "import numpy as np \n",
    "import pandas as pd \n",
    "import sklearn as sklearn\n",
    "import re\n",
    "\n",
    "from sklearn.metrics import mean_absolute_error\n",
    "from sklearn.model_selection import train_test_split\n",
    "from sklearn.tree import DecisionTreeRegressor\n",
    "from sklearn.ensemble import RandomForestRegressor\n",
    "\n",
    "from subprocess import check_output\n",
    "print(check_output([\"ls\", \"data/\"]).decode(\"utf8\"))"
   ]
  },
  {
   "cell_type": "code",
   "execution_count": 342,
   "metadata": {
    "collapsed": false
   },
   "outputs": [
    {
     "name": "stdout",
     "output_type": "stream",
     "text": [
      "   PassengerId  Survived  Pclass  \\\n",
      "0            1         0       3   \n",
      "1            2         1       1   \n",
      "2            3         1       3   \n",
      "3            4         1       1   \n",
      "4            5         0       3   \n",
      "\n",
      "                                                Name     Sex   Age  SibSp  \\\n",
      "0                            Braund, Mr. Owen Harris    male  22.0      1   \n",
      "1  Cumings, Mrs. John Bradley (Florence Briggs Th...  female  38.0      1   \n",
      "2                             Heikkinen, Miss. Laina  female  26.0      0   \n",
      "3       Futrelle, Mrs. Jacques Heath (Lily May Peel)  female  35.0      1   \n",
      "4                           Allen, Mr. William Henry    male  35.0      0   \n",
      "\n",
      "   Parch            Ticket     Fare Cabin Embarked  \n",
      "0      0         A/5 21171   7.2500   NaN        S  \n",
      "1      0          PC 17599  71.2833   C85        C  \n",
      "2      0  STON/O2. 3101282   7.9250   NaN        S  \n",
      "3      0            113803  53.1000  C123        S  \n",
      "4      0            373450   8.0500   NaN        S  \n"
     ]
    }
   ],
   "source": [
    "# Display columns of titanic train data\n",
    "file_path = 'data/train.csv'\n",
    "titanic_data = pd.read_csv(file_path) \n",
    "print(titanic_data.head())"
   ]
  },
  {
   "cell_type": "code",
   "execution_count": 343,
   "metadata": {
    "collapsed": true
   },
   "outputs": [],
   "source": [
    "# Extract Title\n",
    "titles = []\n",
    "name_column = titanic_data['Name']\n",
    "for name in name_column:\n",
    "    index1 = name.find(',')\n",
    "    index2 = name.find('.')\n",
    "    if (len(name) == 0 or index1 == -1 or index2 == -1):\n",
    "        titles.append(\" \")\n",
    "    else:\n",
    "        title = name[index1+2:index2]\n",
    "        titles.append(title)\n",
    "\n",
    "titanic_data['Title'] = titles"
   ]
  },
  {
   "cell_type": "code",
   "execution_count": 344,
   "metadata": {
    "collapsed": false
   },
   "outputs": [],
   "source": [
    "# Family size\n",
    "titanic_data['FamilySz'] = titanic_data['SibSp'] + titanic_data['Parch'] + 1\n",
    "\n",
    "# Fare Per person\n",
    "titanic_data['TicketPrice'] = titanic_data['Fare'] / titanic_data['FamilySz']\n",
    "\n",
    "# Age Squared\n",
    "# titanic_data['AgeSq'] = titanic_data['Age'] * titanic_data['Age']\n",
    "\n",
    "# Age times class\n",
    "# titanic_data['AgeClass'] = titanic_data['Age'] * titanic_data['Pclass']"
   ]
  },
  {
   "cell_type": "code",
   "execution_count": 345,
   "metadata": {
    "collapsed": false
   },
   "outputs": [
    {
     "name": "stdout",
     "output_type": "stream",
     "text": [
      "   PassengerId  Survived  Pclass  \\\n",
      "0            1         0       3   \n",
      "1            2         1       1   \n",
      "2            3         1       3   \n",
      "3            4         1       1   \n",
      "4            5         0       3   \n",
      "\n",
      "                                                Name     Sex   Age  SibSp  \\\n",
      "0                            Braund, Mr. Owen Harris    male  22.0      1   \n",
      "1  Cumings, Mrs. John Bradley (Florence Briggs Th...  female  38.0      1   \n",
      "2                             Heikkinen, Miss. Laina  female  26.0      0   \n",
      "3       Futrelle, Mrs. Jacques Heath (Lily May Peel)  female  35.0      1   \n",
      "4                           Allen, Mr. William Henry    male  35.0      0   \n",
      "\n",
      "   Parch            Ticket     Fare Cabin Embarked Title  FamilySz  \\\n",
      "0      0         A/5 21171   7.2500   NaN        S    Mr         2   \n",
      "1      0          PC 17599  71.2833   C85        C   Mrs         2   \n",
      "2      0  STON/O2. 3101282   7.9250   NaN        S  Miss         1   \n",
      "3      0            113803  53.1000  C123        S   Mrs         2   \n",
      "4      0            373450   8.0500   NaN        S    Mr         1   \n",
      "\n",
      "   TicketPrice   AgeSq  AgeClass  \n",
      "0      3.62500   484.0      66.0  \n",
      "1     35.64165  1444.0      38.0  \n",
      "2      7.92500   676.0      78.0  \n",
      "3     26.55000  1225.0      35.0  \n",
      "4      8.05000  1225.0     105.0  \n"
     ]
    }
   ],
   "source": [
    "# Display updated columns of titanic train data\n",
    "print(titanic_data.head())"
   ]
  },
  {
   "cell_type": "code",
   "execution_count": 346,
   "metadata": {
    "collapsed": false
   },
   "outputs": [],
   "source": [
    "# Select preditors\n",
    "select_predictors = ['Pclass', 'Name', 'Sex', 'Age', 'SibSp', 'Parch', 'Ticket', 'Fare', 'Cabin', 'Embarked', 'FamilySz', 'TicketPrice', 'Title']\n",
    "predictors = titanic_data[select_predictors]\n",
    "\n",
    "# Select Prediction Target\n",
    "y = titanic_data.Survived"
   ]
  },
  {
   "cell_type": "code",
   "execution_count": 347,
   "metadata": {
    "collapsed": false
   },
   "outputs": [
    {
     "name": "stdout",
     "output_type": "stream",
     "text": [
      "0.195067264574\n"
     ]
    }
   ],
   "source": [
    "# Convert the categorical data\n",
    "one_hot_encoded_predictors = pd.get_dummies(predictors)\n",
    "\n",
    "# handle missing data\n",
    "from sklearn.preprocessing import Imputer\n",
    "my_imputer = Imputer()\n",
    "x = my_imputer.fit_transform(one_hot_encoded_predictors)\n",
    "\n",
    "train_x, test_x, train_y, test_y = train_test_split(x, y, random_state = 0)\n",
    "\n",
    "# Define model\n",
    "my_model = RandomForestRegressor()\n",
    "\n",
    "# Fit model\n",
    "my_model.fit(train_x, train_y)\n",
    "\n",
    "# get predicted survival on test data\n",
    "test_predictions = my_model.predict(test_x)\n",
    "print(mean_absolute_error(test_y, test_predictions))"
   ]
  },
  {
   "cell_type": "code",
   "execution_count": null,
   "metadata": {
    "collapsed": true
   },
   "outputs": [],
   "source": []
  },
  {
   "cell_type": "code",
   "execution_count": null,
   "metadata": {
    "collapsed": true
   },
   "outputs": [],
   "source": []
  }
 ],
 "metadata": {
  "kernelspec": {
   "display_name": "Python 3",
   "language": "python",
   "name": "python3"
  },
  "language_info": {
   "codemirror_mode": {
    "name": "ipython",
    "version": 3
   },
   "file_extension": ".py",
   "mimetype": "text/x-python",
   "name": "python",
   "nbconvert_exporter": "python",
   "pygments_lexer": "ipython3",
   "version": "3.6.0"
  }
 },
 "nbformat": 4,
 "nbformat_minor": 2
}
